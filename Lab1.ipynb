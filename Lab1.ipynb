{
 "cells": [
  {
   "cell_type": "markdown",
   "id": "fifteen-sailing",
   "metadata": {
    "id": "fifteen-sailing"
   },
   "source": [
    "# Лабораторная работа №1\n",
    "## Выполнил студент группы БСТ2201 Идрисов М.И."
   ]
  },
  {
   "cell_type": "markdown",
   "id": "6cbf602d",
   "metadata": {},
   "source": []
  },
  {
   "cell_type": "markdown",
   "id": "particular-syndicate",
   "metadata": {
    "id": "particular-syndicate"
   },
   "source": [
    "### Оглавление\n",
    "1. [Задание 1](#Задание-№1)\n",
    "2. [Задание 2](#Задание-№2)\n",
    "3. [Задание 3](#Задание-№3)\n",
    "4. [Вывод](#Вывод)"
   ]
  },
  {
   "cell_type": "markdown",
   "id": "arctic-stocks",
   "metadata": {
    "id": "arctic-stocks"
   },
   "source": [
    "### Задание №1\n",
    "<i> Вызвать функцию print() и передать туда строку Hello, World! </i>"
   ]
  },
  {
   "cell_type": "code",
   "execution_count": null,
   "id": "caring-truck",
   "metadata": {
    "id": "caring-truck",
    "scrolled": true
   },
   "outputs": [],
   "source": [
    "print(\"Hello, World!\")"
   ]
  },
  {
   "cell_type": "markdown",
   "id": "maritime-conversation",
   "metadata": {
    "id": "maritime-conversation"
   },
   "source": [
    "### Задание №2\n",
    "Написать генератор случайных матриц(многомерных), который принимает\n",
    "опциональные параметры <b>m</b>, <b>n</b>, <b>min_limit</b>, <b>max_limit</b>, где <b>m</b> и <b>n</b> указывают размер\n",
    "матрицы, а <b>min_lim</b> и <b>max_lim</b> - минимальное и максимальное значение для\n",
    "генерируемого числа."
   ]
  },
  {
   "cell_type": "code",
   "execution_count": null,
   "id": "built-contact",
   "metadata": {
    "id": "built-contact"
   },
   "outputs": [],
   "source": [
    "import random\n",
    "import time"
   ]
  },
  {
   "cell_type": "code",
   "execution_count": null,
   "id": "alert-charm",
   "metadata": {
    "id": "alert-charm",
    "outputId": "c95dd9e7-d076-4718-b6fb-25f2e6bc03b9"
   },
   "outputs": [],
   "source": [
    "user_m = int(input())\n",
    "user_n = int(input())\n",
    "user_min_limit = int(input())\n",
    "user_max_limit = int(input())"
   ]
  },
  {
   "cell_type": "code",
   "execution_count": null,
   "id": "6992efef",
   "metadata": {},
   "outputs": [],
   "source": [
    "\n",
    "def matrix_maker(m,n,min,max):\n",
    "    matrix=[]\n",
    "    for i in range(m):\n",
    "        matrix.append([])\n",
    "        for j in range(n):\n",
    "            matrix[i].append(random.randint(user_min_limit,user_max_limit))\n",
    "    return matrix\n",
    "#matrix_maker(user_m,user_n,user_min_limit,user_max_limit)"
   ]
  },
  {
   "cell_type": "markdown",
   "id": "catholic-roots",
   "metadata": {
    "id": "catholic-roots"
   },
   "source": [
    "### Задание №3\n",
    "Реализовать методы сортировки строк числовой матрицы в соответствии с\n",
    "заданием. Оценить время работы каждого алгоритма сортировки и сравнить его со\n",
    "временем стандартной функции сортировки. Испытания проводить на сгенерированных\n",
    "матрицах."
   ]
  },
  {
   "cell_type": "code",
   "execution_count": null,
   "id": "opposed-creature",
   "metadata": {
    "id": "opposed-creature"
   },
   "outputs": [],
   "source": [
    "import copy"
   ]
  },
  {
   "cell_type": "code",
   "execution_count": null,
   "id": "b2d3600a",
   "metadata": {},
   "outputs": [],
   "source": [
    "#сгенерируем матрицу для остальных функций\n",
    "arr=matrix_maker(100,100,-100,100)\n",
    "arr"
   ]
  },
  {
   "cell_type": "code",
   "execution_count": null,
   "id": "cleared-anniversary",
   "metadata": {
    "id": "cleared-anniversary",
    "outputId": "b7c76c60-4acb-4c14-9bfb-d4f8d71093a1"
   },
   "outputs": [],
   "source": [
    "# Сортировка выбором.\n",
    "# Берётся срез массива, в котором минимальный элемент переносят в самый левый угол,\n",
    "# после чего срез уменьшается и цикл повторяется.\n",
    "start_time = time.time()\n",
    "\n",
    "def selection_sort(arr):\n",
    "    arr=arr.copy()\n",
    "    n=len(arr)\n",
    "    for i in range(n):\n",
    "        ptr=i\n",
    "        for j in range(i,n):\n",
    "            if arr[j]<arr[ptr]:\n",
    "                ptr=j\n",
    "        arr[i], arr[ptr] = arr[ptr], arr[i]\n",
    "    return arr\n",
    "\n",
    "ans=[]\n",
    "for row in arr:\n",
    "    ans.append(selection_sort((row)))\n",
    "print(arr)\n",
    "print(ans)\n",
    "print(\"--- {0} ms ---\".format(round((time.time() - start_time)*1000)))"
   ]
  },
  {
   "cell_type": "code",
   "execution_count": null,
   "id": "roman-silly",
   "metadata": {
    "id": "roman-silly",
    "outputId": "84666b71-fb68-4c07-d27d-e716af29fcbb",
    "scrolled": true
   },
   "outputs": [],
   "source": [
    "# Сортировка вставкой.\n",
    "start_time = time.time()\n",
    "def insertion_sort(arr):\n",
    "    for i in range(1, len(arr)):\n",
    "        arr=arr.copy()\n",
    "        key = arr[i]\n",
    "        j = i - 1\n",
    "        while j >= 0 and arr[j] > key:\n",
    "            arr[j + 1] = arr[j]\n",
    "            j -= 1\n",
    "        arr[j + 1] = key\n",
    "    return arr\n",
    "\n",
    "ans=[]\n",
    "for row in arr:\n",
    "    ans.append(insertion_sort((row)))\n",
    "print(arr)\n",
    "print(ans)\n",
    "print(\"--- {0} ms ---\".format(round((time.time() - start_time)*1000)))"
   ]
  },
  {
   "cell_type": "code",
   "execution_count": null,
   "id": "vital-implementation",
   "metadata": {
    "id": "vital-implementation",
    "outputId": "7b648bf5-37a5-4d47-926d-b799f7a23be2"
   },
   "outputs": [],
   "source": [
    "# Сортировка обменом. || Сортировка пузырьком.\n",
    "start_time = time.time()\n",
    "def bubble_sort(arr):\n",
    "    arr=arr.copy()\n",
    "    n=len(arr)\n",
    "    for i in range(n):\n",
    "        for j in range(i,n):\n",
    "            if arr[j]<arr[i]:\n",
    "                arr[i],arr[j]=arr[j],arr[i]\n",
    "    return arr\n",
    "\n",
    "ans=[]\n",
    "for row in arr:\n",
    "    ans.append(bubble_sort((row)))\n",
    "print(arr)\n",
    "print(ans)\n",
    "\n",
    "print(\"--- {0} ms ---\".format(round((time.time() - start_time)*1000)))"
   ]
  },
  {
   "cell_type": "code",
   "execution_count": null,
   "id": "veterinary-glory",
   "metadata": {
    "id": "veterinary-glory",
    "outputId": "9cc2a9ff-ec7a-43de-e4a8-47945d030986"
   },
   "outputs": [],
   "source": [
    "# Сортировка Шелла.\n",
    "start_time = time.time()\n",
    "def shell_sort(arr):\n",
    "    arr=arr.copy()\n",
    "    n = len(arr)\n",
    "    gap = n // 2\n",
    "    while gap > 0:\n",
    "        for i in range(gap, n):\n",
    "            temp = arr[i]\n",
    "            j = i\n",
    "            while j >= gap and arr[j - gap] > temp:\n",
    "                arr[j] = arr[j - gap]\n",
    "                j -= gap\n",
    "            arr[j] = temp\n",
    "        gap //= 2\n",
    "    return arr\n",
    "\n",
    "ans=[]\n",
    "for row in arr:\n",
    "    ans.append(shell_sort((row)))\n",
    "print(arr)\n",
    "print(ans)\n",
    "print(\"--- {0} ms ---\".format(round((time.time() - start_time)*1000)))"
   ]
  },
  {
   "cell_type": "code",
   "execution_count": null,
   "id": "correct-chaos",
   "metadata": {
    "id": "correct-chaos",
    "outputId": "f4d9aef1-8a2f-46a0-def0-4c9e049f5c77"
   },
   "outputs": [],
   "source": [
    "# Быстрая сортировка.\n",
    "start_time = time.time()\n",
    "def quick_sort(arr):\n",
    "    if len(arr) <= 1:\n",
    "        return arr\n",
    "    \n",
    "    pivot = arr[0]\n",
    "    less = [x for x in arr[1:] if x <= pivot]\n",
    "    greater = [x for x in arr[1:] if x > pivot]\n",
    "    \n",
    "    return quick_sort(less) + [pivot] + quick_sort(greater)\n",
    "\n",
    "ans=[]\n",
    "for row in arr:\n",
    "    ans.append(quick_sort((row)))\n",
    "print(arr)\n",
    "print(ans)\n",
    "print(\"--- {0} ms ---\".format(round((time.time() - start_time)*1000)))\n",
    "    "
   ]
  },
  {
   "cell_type": "code",
   "execution_count": null,
   "id": "french-czech",
   "metadata": {
    "colab": {
     "base_uri": "https://localhost:8080/",
     "height": 217
    },
    "executionInfo": {
     "elapsed": 433,
     "status": "error",
     "timestamp": 1645638345253,
     "user": {
      "displayName": "Sergey Simonov",
      "photoUrl": "https://lh3.googleusercontent.com/a-/AOh14GhQdeIfzzsg8bfb7DLHaLzEFH8Ebg2FyuaL9YoQyA=s64",
      "userId": "14094206399671235086"
     },
     "user_tz": -180
    },
    "id": "french-czech",
    "outputId": "7e38b779-8bbf-4955-c3ad-2a6be0ee386a"
   },
   "outputs": [],
   "source": [
    "# Турнирная сортировка.\n",
    "start_time = time.time()\n",
    "def tournament_sort(arr):\n",
    "    arr=arr.copy()\n",
    "    def build_tree(nodes):\n",
    "        num_nodes = len(nodes)\n",
    "        if num_nodes == 1:\n",
    "            return nodes[0]\n",
    "        \n",
    "        winners = []\n",
    "        for i in range(0, num_nodes, 2):\n",
    "            if i == num_nodes - 1:\n",
    "                winners.append(nodes[i])\n",
    "            else:\n",
    "                winners.append(min(nodes[i], nodes[i+1]))\n",
    "        \n",
    "        return build_tree(winners)\n",
    "    \n",
    "    nodes = arr.copy()\n",
    "    winner = build_tree(nodes)\n",
    "    \n",
    "    sorted_arr = []\n",
    "    while winner:\n",
    "        sorted_arr.append(winner)\n",
    "        nodes.remove(winner)\n",
    "        if nodes:\n",
    "            winner = build_tree(nodes)\n",
    "        else:\n",
    "            break\n",
    "    \n",
    "    return sorted_arr\n",
    "\n",
    "ans=[]\n",
    "for row in arr:\n",
    "    ans.append(tournament_sort((row)))\n",
    "print(arr)\n",
    "print(ans)\n",
    "print(\"--- {0} ms ---\".format(round((time.time() - start_time)*1000)))"
   ]
  },
  {
   "cell_type": "code",
   "execution_count": null,
   "id": "48eded78",
   "metadata": {},
   "outputs": [],
   "source": [
    "def default_sort(arr):\n",
    "    arr=arr.copy()\n",
    "    arr.sort()\n",
    "    return arr\n",
    "\n",
    "start_time=time.time()\n",
    "ans=[]\n",
    "for row in arr:\n",
    "    ans.append(default_sort((row)))\n",
    "print(arr)\n",
    "print(ans)\n",
    "print(\"--- {0} ms ---\".format(round((time.time() - start_time)*1000)))\n"
   ]
  },
  {
   "cell_type": "code",
   "execution_count": null,
   "id": "92965329",
   "metadata": {},
   "outputs": [],
   "source": [
    "def test_sort(arr,sort):\n",
    "    start_time=time.time()\n",
    "    sorted_arr=[]\n",
    "    for row in arr:\n",
    "        row.copy()\n",
    "        sorted_arr.append(sort(row))\n",
    "    return time.time() - start_time"
   ]
  },
  {
   "cell_type": "code",
   "execution_count": 136,
   "id": "e4e64c63",
   "metadata": {},
   "outputs": [
    {
     "name": "stdout",
     "output_type": "stream",
     "text": [
      "{'bubble_sort': 0.04449105262756348,\n",
      " 'default_sort': 0.0,\n",
      " 'insertion_sort': 0.03856921195983887,\n",
      " 'quick_sort': 0.020279884338378906,\n",
      " 'selection_sort': 0.05907249450683594,\n",
      " 'shell_sort': 0.016679048538208008,\n",
      " 'tournament_sort': 0.18114733695983887}\n"
     ]
    }
   ],
   "source": [
    "import pprint\n",
    "times={}\n",
    "types=[selection_sort,insertion_sort,bubble_sort,shell_sort,quick_sort,tournament_sort,default_sort]\n",
    "for sort in types:\n",
    "    times[sort.__name__]=test_sort(arr,sort)\n",
    "\n",
    "\n",
    "pprint.pprint(times)\n"
   ]
  },
  {
   "cell_type": "markdown",
   "id": "rental-jerusalem",
   "metadata": {
    "id": "rental-jerusalem"
   },
   "source": [
    "### Вывод\n"
   ]
  },
  {
   "cell_type": "markdown",
   "id": "9d108a0a",
   "metadata": {
    "id": "9d108a0a"
   },
   "source": [
    "Были разработаны функции генерации двумерного массива случайных чисел, а также различные функции сортировки двумерного. Функции были сравнены по скорости друг с другом и с обычной функцией сортировки."
   ]
  }
 ],
 "metadata": {
  "colab": {
   "provenance": []
  },
  "kernelspec": {
   "display_name": "Python 3 (ipykernel)",
   "language": "python",
   "name": "python3"
  },
  "language_info": {
   "codemirror_mode": {
    "name": "ipython",
    "version": 3
   },
   "file_extension": ".py",
   "mimetype": "text/x-python",
   "name": "python",
   "nbconvert_exporter": "python",
   "pygments_lexer": "ipython3",
   "version": "3.10.11"
  }
 },
 "nbformat": 4,
 "nbformat_minor": 5
}
