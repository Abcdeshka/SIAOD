{
 "cells": [
  {
   "cell_type": "markdown",
   "id": "fifteen-sailing",
   "metadata": {},
   "source": [
    "# Лабораторная работа №2\n",
    "## Выполнил студент группы Идрисов М.И. БСТ2201"
   ]
  },
  {
   "cell_type": "markdown",
   "id": "arctic-stocks",
   "metadata": {},
   "source": [
    "Реализовать следующие структуры данных:\n",
    "  \n",
    "● <b> Стек (stack): </b>  \n",
    "Операции для стека: \n",
    "<i> инициализация, проверка на пустоту, добавление нового элемента в начало, извлечение элемента из начала;  </i>  \n",
    "  \n",
    "● <b> Дек (двусторонняя очередь, deque):  </b>  \n",
    "Операции для дека: \n",
    "<i> инициализация, проверка на пустоту, добавление нового элемента в начало, добавление нового элемента в конец, извлечение элемента из начала, извлечение элемента из конца. </i>  \n",
    "  \n",
    "<i> Разработать программу обработки данных, содержащихся в заранее подготовленном txt-файле, в соответствии с заданиями, применив указанную в задании структуру данных. Результат работы программы вывести на экран и сохранить в отдельном txt-файле. </i>"
   ]
  },
  {
   "cell_type": "code",
   "execution_count": 2,
   "id": "859feb0e",
   "metadata": {},
   "outputs": [],
   "source": [
    "class Stack:\n",
    "    def __init__(self):\n",
    "        self.items=[]\n",
    "\n",
    "    def isEmpty(self):\n",
    "        return self.items==[]\n",
    "    \n",
    "    def add(self, item):\n",
    "        self.items.append(item)\n",
    "\n",
    "    def pop(self):\n",
    "        return self.items.pop()\n",
    "    "
   ]
  },
  {
   "cell_type": "code",
   "execution_count": 3,
   "id": "fa6cf393",
   "metadata": {},
   "outputs": [],
   "source": [
    "class Deque:\n",
    "    def __init__(self):\n",
    "        self.items=[]\n",
    "\n",
    "    def isEmpty(self):\n",
    "        return self.items==[]\n",
    "    \n",
    "    def add_front(self, item):\n",
    "        self.items.insert(0,item)\n",
    "\n",
    "    def add_rear(self, item):\n",
    "        self.items.append(item)\n",
    "\n",
    "    def pop_front(self):\n",
    "        return self.items.pop(0)\n",
    "    \n",
    "    def pop_rear(self):\n",
    "        return self.items.pop()\n",
    "\n",
    "    def peek(self):\n",
    "        return self.items[-1]\n",
    "    "
   ]
  },
  {
   "cell_type": "markdown",
   "id": "5d7edb08",
   "metadata": {
    "scrolled": true
   },
   "source": [
    "### Задание №1\n",
    "Отсортировать строки файла, содержащие названия книг, в алфавитном порядке с использованием двух деков."
   ]
  },
  {
   "cell_type": "code",
   "execution_count": 4,
   "id": "17702ade",
   "metadata": {},
   "outputs": [],
   "source": [
    "deque1=Deque()\n",
    "deque2=Deque()\n",
    "file_to_save = open(\"save1.txt\", \"w\", encoding=\"utf-8\")\n",
    "with open(\"text1.txt\",\"r\", encoding=\"utf-8\") as f:\n",
    "    for line in f.readlines():\n",
    "        deque1.add_front(line.strip())\n",
    "    while not deque1.isEmpty():\n",
    "        line=deque1.pop_rear()\n",
    "        counter=0\n",
    "        while not deque2.isEmpty() and deque2.peek()>line:\n",
    "            deque1.add_rear(deque2.pop_rear())\n",
    "        deque2.add_rear(line)\n",
    "    \n",
    "    while not deque2.isEmpty():\n",
    "        file_to_save.writelines(deque2.pop_front()+\"\\n\")\n",
    "file_to_save.close()"
   ]
  },
  {
   "cell_type": "markdown",
   "id": "49fbd2a0",
   "metadata": {},
   "source": [
    "### Задание №2\n",
    "Дек содержит последовательность символов для шифровки сообщений. Дан текстовый файл, содержащий зашифрованное сообщение. Пользуясь деком, расшифровать текст. \n",
    "Известно, что при шифровке каждый символ сообщения заменялся следующим за ним в деке по часовой стрелке через один."
   ]
  },
  {
   "cell_type": "code",
   "execution_count": null,
   "id": "81cab7a8",
   "metadata": {},
   "outputs": [],
   "source": []
  },
  {
   "cell_type": "markdown",
   "id": "c0894f47",
   "metadata": {},
   "source": [
    "### Задание №3\n",
    "Даны три стержня и n дисков различного размера. Диски можно надевать на стержни, образуя из них башни. Перенести n дисков со стержня А на стержень С, сохранив их первоначальный порядок. При переносе дисков необходимо соблюдать следующие правила:\n",
    "- на каждом шаге со стержня на стержень переносить только один диск;\n",
    "- диск нельзя помещать на диск меньшего размера;\n",
    "- для промежуточного хранения можно использовать стержень В.\n",
    "Реализовать алгоритм, используя три стека вместо стержней А, В, С. Информация о дисках хранится в исходном файле."
   ]
  },
  {
   "cell_type": "code",
   "execution_count": null,
   "id": "9e91a9d4",
   "metadata": {},
   "outputs": [],
   "source": []
  },
  {
   "cell_type": "markdown",
   "id": "e5b0be17",
   "metadata": {},
   "source": [
    "### Задание №4\n",
    "Дан текстовый файл с программой на алгоритмическом языке. За один просмотр файла проверить баланс круглых скобок в тексте, используя стек."
   ]
  },
  {
   "cell_type": "code",
   "execution_count": 19,
   "id": "5b1df60a",
   "metadata": {},
   "outputs": [
    {
     "name": "stdout",
     "output_type": "stream",
     "text": [
      "False\n"
     ]
    }
   ],
   "source": [
    "stack=Stack()\n",
    "k=True\n",
    "with open(\"text4.txt\",\"r\", encoding=\"utf-8\") as f:\n",
    "    for line in f.readlines():\n",
    "        for letter in line.strip():\n",
    "            if letter==\"(\":\n",
    "                stack.add(\"(\")\n",
    "            elif letter==\")\":\n",
    "                if stack.isEmpty():\n",
    "                    k=False\n",
    "                    break\n",
    "                stack.pop()\n",
    "\n",
    "print(k and stack.isEmpty())"
   ]
  },
  {
   "cell_type": "markdown",
   "id": "c44cdd6b",
   "metadata": {},
   "source": [
    "### Задание №5\n",
    "Дан текстовый файл с программой на алгоритмическом языке. За один просмотр файла проверить баланс квадратных скобок в тексте, используя дек."
   ]
  },
  {
   "cell_type": "code",
   "execution_count": 21,
   "id": "36b8f400",
   "metadata": {},
   "outputs": [
    {
     "name": "stdout",
     "output_type": "stream",
     "text": [
      "True\n"
     ]
    }
   ],
   "source": [
    "deque=Deque()\n",
    "k=True\n",
    "with open(\"text5.txt\",\"r\", encoding=\"utf-8\") as f:\n",
    "    for line in f.readlines():\n",
    "        for letter in line.strip():\n",
    "            if letter==\"[\":\n",
    "                deque.add_rear(\"[\")\n",
    "            elif letter==\"]\":\n",
    "                if deque.isEmpty():\n",
    "                    k=False\n",
    "                    break\n",
    "                deque.pop_rear()\n",
    "\n",
    "print(k and deque.isEmpty())"
   ]
  },
  {
   "cell_type": "markdown",
   "id": "59d13dc7",
   "metadata": {},
   "source": [
    "### Задание №6\n",
    "Дан файл из символов. Используя стек, за один просмотр файла напечатать сначала все цифры, затем все буквы, и, наконец, все остальные символы, сохраняя исходный порядок в каждой группе символов."
   ]
  },
  {
   "cell_type": "code",
   "execution_count": 29,
   "id": "297e36c2",
   "metadata": {},
   "outputs": [
    {
     "name": "stdout",
     "output_type": "stream",
     "text": [
      "1234675432345678643245677643dctfvygbhijnmihngbyvftcdrtfyguhin-mkojihugyctrfdxesdctfygubhjl-jihnugytcrdx\n"
     ]
    }
   ],
   "source": [
    "numbers=\"0123456789\"\n",
    "numbers_to_print=\"\"\n",
    "stack=Stack()\n",
    "with open(\"text6.txt\",\"r\", encoding=\"utf-8\") as f:\n",
    "    for line in f.readlines():\n",
    "        for letter in line:\n",
    "            if letter in numbers:\n",
    "                numbers_to_print+=letter\n",
    "            else:\n",
    "                stack.add(letter)\n",
    "to_print=\"\"\n",
    "while not stack.isEmpty():\n",
    "    to_print+=stack.pop()\n",
    "to_print = to_print[::-1]\n",
    "print(numbers_to_print+to_print)"
   ]
  },
  {
   "cell_type": "markdown",
   "id": "973f68bd",
   "metadata": {},
   "source": [
    "### Задание №7\n",
    "Дан файл из целых чисел. Используя дек, за один просмотр файла напечатать сначала все отрицательные числа, затем все положительные числа, сохраняя исходный порядок в каждой группе."
   ]
  },
  {
   "cell_type": "code",
   "execution_count": null,
   "id": "c56fad66",
   "metadata": {},
   "outputs": [],
   "source": []
  },
  {
   "cell_type": "markdown",
   "id": "b9228191",
   "metadata": {},
   "source": [
    "### Задание №8\n",
    "Дан текстовый файл. Используя стек, сформировать новый текстовый файл, содержащий строки исходного файла, записанные в обратном порядке: первая строка становится последней, вторая – предпоследней и т.д."
   ]
  },
  {
   "cell_type": "code",
   "execution_count": null,
   "id": "981fbdfe",
   "metadata": {},
   "outputs": [],
   "source": []
  },
  {
   "cell_type": "markdown",
   "id": "rental-jerusalem",
   "metadata": {},
   "source": [
    "### Вывод\n"
   ]
  },
  {
   "cell_type": "markdown",
   "id": "0c2b8899",
   "metadata": {},
   "source": []
  }
 ],
 "metadata": {
  "kernelspec": {
   "display_name": "Python 3 (ipykernel)",
   "language": "python",
   "name": "python3"
  },
  "language_info": {
   "codemirror_mode": {
    "name": "ipython",
    "version": 3
   },
   "file_extension": ".py",
   "mimetype": "text/x-python",
   "name": "python",
   "nbconvert_exporter": "python",
   "pygments_lexer": "ipython3",
   "version": "3.12.2"
  }
 },
 "nbformat": 4,
 "nbformat_minor": 5
}
